{
 "cells": [
  {
   "cell_type": "markdown",
   "metadata": {},
   "source": [
    "# WeatherPy\n",
    "----\n",
    "\n",
    "#### Note\n",
    "* Instructions have been included for each segment. You do not have to follow them exactly, but they are included to help you think through the steps."
   ]
  },
  {
   "cell_type": "code",
   "execution_count": 1,
   "metadata": {
    "scrolled": true
   },
   "outputs": [],
   "source": [
    "# Dependencies and Setup\n",
    "import matplotlib.pyplot as plt\n",
    "import pandas as pd\n",
    "import numpy as np\n",
    "import requests\n",
    "import time\n",
    "from scipy.stats import linregress\n",
    "\n",
    "# Import API key\n",
    "from api_keys import weather_api_key\n",
    "# Import API key\n",
    "from api_keys import g_key\n",
    "\n",
    "# Incorporated citipy to determine city based on latitude and longitude\n",
    "from citipy import citipy\n",
    "\n",
    "# Output File (CSV)\n",
    "output_data_file = \"output_data/cities.csv\"\n",
    "\n",
    "# Range of latitudes and longitudes\n",
    "lat_range = (-90, 90)\n",
    "lng_range = (-180, 180)"
   ]
  },
  {
   "cell_type": "markdown",
   "metadata": {},
   "source": [
    "## Generate Cities List"
   ]
  },
  {
   "cell_type": "code",
   "execution_count": 2,
   "metadata": {},
   "outputs": [
    {
     "data": {
      "text/plain": [
       "627"
      ]
     },
     "execution_count": 2,
     "metadata": {},
     "output_type": "execute_result"
    }
   ],
   "source": [
    "# List for holding lat_lngs and cities\n",
    "lat_lngs = []\n",
    "\n",
    "lat = []\n",
    "lon = []\n",
    "\n",
    "cities = []\n",
    "\n",
    "temp = []\n",
    "clouds = []\n",
    "wind = []\n",
    "\n",
    "# Create a set of random lat and lng combinations\n",
    "lats = np.random.uniform(low=-90.000, high=90.000, size=1500)\n",
    "lngs = np.random.uniform(low=-180.000, high=180.000, size=1500)\n",
    "lat_lngs = zip(lats, lngs)\n",
    "\n",
    "# Identify nearest city for each lat, lng combination\n",
    "for lat_lng in lat_lngs:\n",
    "    city = citipy.nearest_city(lat_lng[0], lat_lng[1]).city_name\n",
    "    \n",
    "    # If the city is unique, then add it to a our cities list\n",
    "    if city not in cities:\n",
    "        cities.append(city)\n",
    "\n",
    "# Print the city count to confirm sufficient count\n",
    "len(cities)"
   ]
  },
  {
   "cell_type": "code",
   "execution_count": 3,
   "metadata": {},
   "outputs": [
    {
     "name": "stdout",
     "output_type": "stream",
     "text": [
      "['ketchikan', 'pahrump', 'albany', 'new norfolk', 'rikitea', 'vallenar', 'arraial do cabo', 'otjiwarongo', 'senneterre', 'cape town', 'victoria', 'luderitz', 'norman wells', 'jahrom', 'amalfi', 'severo-kurilsk', 'porbandar', 'maghama', 'attawapiskat', 'regina', 'mataura', 'kapaa', 'guerrero negro', 'port alfred', 'lavrentiya', 'busselton', 'saint george', 'lasa', 'sao lourenco', 'nikolskoye', 'bolungarvik', 'punta arenas', 'iberia', 'karachi', 'rauma', 'puerto ayora', 'tsihombe', 'noumea', 'georgetown', 'yeppoon', 'jamestown', 'ribeira grande', 'ushuaia', 'dunedin', 'manakara', 'coquimbo', 'portland', 'barrow', 'juneau', 'hermanus', 'grand gaube', 'tuktoyaktuk', 'lesozavodsk', 'mehamn', 'longyearbyen', 'bredasdorp', 'waiuku', 'carnarvon', 'asau', 'miyako', 'yafran', 'bluff', 'redmond', 'ankazoabo', 'yulara', 'illoqqortoormiut', 'javanrud', 'kabo', 'marcona', 'mount hagen', 'upernavik', 'kavaratti', 'ixtapa', 'lagunas', 'san patricio', 'tasiilaq', 'aporawan', 'cabo san lucas', 'ouro preto do oeste', 'port hardy', 'butaritari', 'taolanaro', 'kailua', 'geraldton', 'hirara', 'ancud', 'tezu', 'calca', 'nizhneyansk', 'liuhe', 'barentsburg', 'bethel', 'majene', 'balikpapan', 'turtas', 'bendigo', 'horn lake', 'tambovka', 'vaini', 'torbay', 'sitka', 'lebu', 'mys shmidta', 'atuona', 'vestmannaeyjar', 'hamilton', 'marawi', 'caruray', 'seoul', 'mar del plata', 'tessalit', 'hobart', 'andenes', 'quatre cocos', 'chapais', 'hithadhoo', 'hilo', 'mae chan', 'zyryanka', 'jaque', 'richards bay', 'yellowknife', 'iqaluit', 'lolua', 'bezhetsk', 'jacareacanga', 'samfya', 'tiksi', 'prieska', 'clyde river', 'san quintin', 'scarborough', 'labuhan', 'bambous virieux', 'kahului', 'esperance', 'buena vista', 'bathsheba', 'cidreira', 'chokurdakh', 'villacarrillo', 'airai', 'kavieng', 'saldanha', 'port hawkesbury', 'te anau', 'alice springs', 'nueva concepcion', 'pedro juan caballero', 'najran', 'la asuncion', 'keetmanshoop', 'katsuura', 'hofn', 'leningradskiy', 'kodiak', 'vodnyy', 'shakawe', 'rio grande', 'anadyr', 'tumannyy', 'narsaq', 'meulaboh', 'amderma', 'gushikawa', 'warqla', 'santa rosa', 'chibuto', 'kirakira', 'camana', 'kaitangata', 'ulundi', 'pisco', 'erzin', 'port lincoln', 'raga', 'henties bay', 'hasaki', 'qaanaaq', 'castro', 'pevek', 'santa maria', 'lagoa', 'vardo', 'ziro', 'udachnyy', 'svetlyy', 'faanui', 'lubao', 'russell', 'flin flon', 'tarakan', 'naryan-mar', 'margate', 'cayenne', 'thompson', 'karaul', 'naze', 'komsomolskiy', 'acarau', 'inhambane', 'kashan', 'el espinal', 'namibe', 'lufilufi', 'remedios', 'urman', 'hami', 'tarsus', 'williston', 'buta', 'marsh harbour', 'vila franca do campo', 'valparaiso', 'sao gabriel da cachoeira', 'srednekolymsk', 'kamenka', 'umtata', 'muros', 'aswan', 'ewa beach', 'chuy', 'lagos', 'joura', 'east london', 'rawson', 'zhuhai', 'codajas', 'sentyabrskiy', 'simao', 'mapiri', 'nishihara', 'shirpur', 'pirenopolis', 'ust-tsilma', 'dikson', 'mattru', 'nabire', 'mayo', 'severnyy', 'port macquarie', 'aflu', 'bocaiuva', 'southbridge', 'jiayuguan', 'azrow', 'buala', 'yerbogachen', 'mercedes', 'avarua', 'bilma', 'fortuna', 'vuktyl', 'saskylakh', 'guiglo', 'khatanga', 'chancay', 'saint-paul', 'demmin', 'orchard homes', 'belushya guba', 'burgeo', 'tautira', 'mount isa', 'khash', 'wuwei', 'sendafa', 'one hundred mile house', 'lemoore', 'moron', 'teya', 'palabuhanratu', 'mayumba', 'rodrigues alves', 'flinders', 'abu zabad', 'jumla', 'marrakesh', 'honiara', 'chiknayakanhalli', 'larsnes', 'trinidad', 'storebo', 'pavilosta', 'bambanglipuro', 'coihaique', 'fairview', 'nuuk', 'kaa-khem', 'yenagoa', 'souillac', 'pitimbu', 'madras', 'toliary', 'mbuji-mayi', 'oranjemund', 'laguna', 'kenora', 'santiago', 'tecpan', 'itoigawa', 'deputatskiy', 'damara', 'khorixas', 'weligama', 'kalianget', 'berlevag', 'tarko-sale', 'isangel', 'san jeronimo', 'mwene-ditu', 'maningrida', 'ostrovnoy', 'vila velha', 'porto murtinho', 'atasu', 'saint andrews', 'port blair', 'salalah', 'axim', 'paka', 'marsa matruh', 'kruisfontein', 'poum', 'grand river south east', 'akcakoca', 'amapa', 'umea', 'joshimath', 'pangnirtung', 'aitape', 'solsvik', 'colares', 'tual', 'svetlaya', 'jiddah', 'utiroa', 'cherskiy', 'tayga', 'egvekinot', 'nouadhibou', 'sisimiut', 'sao filipe', 'san cristobal', 'dedza', 'burnie', 'petropavlovsk-kamchatskiy', 'pamplonita', 'ust-kamchatsk', 'faya', 'omboue', 'alofi', 'palmer', 'tuatapere', 'aykhal', 'opuwo', 'port-de-bouc', 'lindi', 'hervey bay', 'nelson bay', 'belaya gora', 'nara', 'christchurch', 'dingle', 'falavarjan', 'jieshi', 'broken hill', 'kortkeros', 'morgan city', 'ijaki', 'matay', 'iguatu', 'behbahan', 'jishou', 'bonavista', 'west wendover', 'nong phai', 'khudumelapye', 'oktyabrskiy', 'grafton', 'husavik', 'teguldet', 'chimbarongo', 'trincomalee', 'satitoa', 'vigia del fuerte', 'araouane', 'santa clara', 'bayan', 'constitucion', 'kirksville', 'provideniya', 'talara', 'kamenskoye', 'grindavik', 'hyvinkaa', 'touros', 'vaitupu', 'sao joao da barra', 'bengkulu', 'cockburn town', 'brae', 'djambala', 'samusu', 'malinovoye ozero', 'pingliang', 'swindon', 'gallup', 'tucupita', 'florianopolis', 'carupano', 'marienburg', 'lazaro cardenas', 'pontianak', 'la libertad', 'haflong', 'santa cruz', 'beyneu', 'muskegon', 'caravelas', 'acapulco', 'louisbourg', 'nome', 'avera', 'alberton', 'altay', 'grande prairie', 'salyan', 'merauke', 'terrace', 'chateauroux', 'bitung', 'talcahuano', 'mahebourg', 'pio xii', 'tabou', 'port hedland', 'khilok', 'byron bay', 'kudahuvadhoo', 'lakes entrance', 'ust-nera', 'saint-philippe', 'tiznit', 'miandrivazo', 'songjianghe', 'muncar', 'darya khan', 'taree', 'bandar-e torkaman', 'kemijarvi', 'barawe', 'hue', 'codrington', 'paragominas', 'ponta do sol', 'campo maior', 'beloha', 'morros', 'saleaula', 'kendari', 'mogadishu', 'omsukchan', 'ahipara', 'port elizabeth', 'hambantota', 'gallatin', 'durusu', 'kodinsk', 'makakilo city', 'lerwick', 'morshansk', 'challans', 'bara', 'galiwinku', 'wynyard', 'benalla', 'laguna de perlas', 'baruun-urt', 'lahaina', 'tura', 'tuy hoa', 'arlit', 'muroto', 'tshane', 'gedo', 'bubaque', 'lethem', 'genhe', 'hobyo', 'kushiro', 'shingu', 'iwanai', 'havelock', 'kutum', 'bedford', 'abeche', 'qaqortoq', 'devrek', 'comodoro rivadavia', 'reconquista', 'saint-francois', 'nhulunbuy', 'nemuro', 'mungwi', 'lompoc', 'saleilua', 'viedma', 'barahona', 'vao', 'south lake tahoe', 'floro', 'altamira', 'bada', 'nortelandia', 'yatou', 'dumas', 'betare oya', 'tawkar', 'cache creek', 'havre-saint-pierre', 'awjilah', 'ucluelet', 'masunga', 'san pedro', 'verkhoyansk', 'westport', 'manggar', 'quilpue', 'linxia', 'adrar', 'isernia', 'leshukonskoye', 'bunia', 'halalo', 'panaba', 'huangzhou', 'bolshaya glushitsa', 'payo', 'khonuu', 'ruwi', 'port huron', 'the pas', 'mahroni', 'yaan', 'kotelnich', 'bima', 'antsohihy', 'llangefni', 'churapcha', 'gamba', 'ponta delgada', 'karkaralinsk', 'temir', 'coolum beach', 'conceicao do araguaia', 'kieta', 'santa rosalia', 'benguela', 'lumeje', 'grants', 'mandalgovi', 'nanga eboko', 'niamey', 'lena', 'puksoozero', 'man', 'atikokan', 'saint-pierre', 'lorengau', 'zarubino', 'ust-barguzin', 'taltal', 'bone', 'birao', 'tofield', 'nsoko', 'phan thiet', 'svecha', 'ecija', 'cabedelo', 'northam', 'boyolangu', 'fort-shevchenko', 'goderich', 'mago', 'natal', 'rorvik', 'strezhevoy', 'izumiotsu', 'atmakur', 'tete', 'tanout', 'tirumullaivasal', 'chicama', 'taoudenni', 'sao francisco do sul', 'ilulissat', 'pacific grove', 'peleduy', 'quang ngai', 'simpang', 'sambava', 'makurdi', 'trairi', 'bandarbeyla', 'manono', 'harper', 'esmeraldas', 'gadwal', 'alyangula', 'calabozo', 'bulancak', 'duluth', 'vershino-darasunskiy', 'korla', 'kashi', 'kulhudhuffushi', 'mecca', 'hualmay', 'rock sound', 'mildura', 'idritsa', 'siare', 'hailar', 'catuday', 'magan']\n"
     ]
    }
   ],
   "source": [
    "print(cities)"
   ]
  },
  {
   "cell_type": "code",
   "execution_count": 4,
   "metadata": {},
   "outputs": [
    {
     "name": "stdout",
     "output_type": "stream",
     "text": [
      "http://api.openweathermap.org/data/2.5/weather?appid=6a9ded0210a28a26ae802e071f505b96&q=magan\n"
     ]
    }
   ],
   "source": [
    "# Save config information\n",
    "url = \"http://api.openweathermap.org/data/2.5/weather?\"\n",
    "\n",
    "# Build query URL\n",
    "query_url = url + \"appid=\" + weather_api_key + \"&q=\" + city\n",
    "print(query_url)"
   ]
  },
  {
   "cell_type": "code",
   "execution_count": 5,
   "metadata": {},
   "outputs": [
    {
     "name": "stdout",
     "output_type": "stream",
     "text": [
      "{'coord': {'lon': -3.93, 'lat': 39.97}, 'weather': [{'id': 803, 'main': 'Clouds', 'description': 'broken clouds', 'icon': '04n'}], 'base': 'stations', 'main': {'temp': 287.64, 'feels_like': 286.77, 'temp_min': 285.93, 'temp_max': 288.15, 'pressure': 1020, 'humidity': 77}, 'visibility': 10000, 'wind': {'speed': 1.5, 'deg': 200}, 'clouds': {'all': 75}, 'dt': 1586647303, 'sys': {'type': 1, 'id': 6443, 'country': 'ES', 'sunrise': 1586670104, 'sunset': 1586717437}, 'timezone': 7200, 'id': 6361748, 'name': 'Magán', 'cod': 200}\n"
     ]
    }
   ],
   "source": [
    "# Get weather data\n",
    "weather_response = requests.get(query_url)\n",
    "weather_json = weather_response.json()\n",
    "print(weather_json)"
   ]
  },
  {
   "cell_type": "code",
   "execution_count": 6,
   "metadata": {},
   "outputs": [
    {
     "name": "stdout",
     "output_type": "stream",
     "text": [
      "{'cod': '404', 'message': 'city not found'}\n"
     ]
    }
   ],
   "source": [
    "response = requests.get(query_url + city).json()\n",
    "print(response)"
   ]
  },
  {
   "cell_type": "code",
   "execution_count": null,
   "metadata": {},
   "outputs": [],
   "source": [
    "# Get the temperature from the response\n",
    "print(f\"The weather API responded with: {weather_json}.\")"
   ]
  },
  {
   "cell_type": "code",
   "execution_count": null,
   "metadata": {},
   "outputs": [],
   "source": [
    "# Loop through the list of cities and perform a request for data on each\n",
    "\n",
    "#cities = [\"princeton\",\"alferrarede\",\"santa cruz\"]\n",
    "\n",
    "cities = [\"Paris\", \"London\", \"Oslo\", \"Beijing\", \"Mumbai\", \"Manila\", \"New York\", \"Seattle\", \"Dallas\", \"Taipei\"]\n",
    "\n",
    "# set up lists to hold reponse info\n",
    "lat = []\n",
    "temp = []\n",
    "\n",
    "# Loop through the list of cities and perform a request for data on each\n",
    "for city in cities:\n",
    "    response = requests.get(query_url + city).json()\n",
    "    lat.append(response['coord']['lat'])\n",
    "    temp.append(response['main']['temp'])\n",
    "\n",
    "print(f\"The latitude information received is: {lat}\")\n",
    "print(f\"The temperature information received is: {temp}\")\n",
    "\n",
    "\n",
    "print(f\"The latitude information received is: {lat}\")\n",
    "print(f\"The temperature information received is: {temp}\")"
   ]
  },
  {
   "cell_type": "code",
   "execution_count": null,
   "metadata": {},
   "outputs": [],
   "source": [
    "weather_json['main']['temp']\n",
    "weather_json['name']"
   ]
  },
  {
   "cell_type": "code",
   "execution_count": null,
   "metadata": {},
   "outputs": [],
   "source": []
  },
  {
   "cell_type": "code",
   "execution_count": null,
   "metadata": {},
   "outputs": [],
   "source": [
    "weather_dict = {\n",
    "    \"city\": cities,\n",
    "    \"lat\": lat,\n",
    "    \"temp\": temp\n",
    "}\n",
    "weather_data = pd.DataFrame(weather_dict)\n",
    "weather_data"
   ]
  },
  {
   "cell_type": "code",
   "execution_count": null,
   "metadata": {},
   "outputs": [],
   "source": [
    "# Loop through the list of cities and perform a request for data on each\n",
    "for city in cities:\n",
    "    weather_response = requests.get(query_url + city).json()\n",
    "    lat.append(weather_response['coord']['lat'])\n",
    "    temp.append(weather_response['main']['temp'])\n",
    "\n",
    "print(f\"The latitude information received is: {lat}\")\n",
    "print(f\"The temperature information received is: {temp}\")"
   ]
  },
  {
   "cell_type": "code",
   "execution_count": null,
   "metadata": {},
   "outputs": [],
   "source": []
  },
  {
   "cell_type": "code",
   "execution_count": null,
   "metadata": {},
   "outputs": [],
   "source": [
    "# Create a Scatter Plot for temperature vs latitude\n",
    "x_values = weather_data['lat']\n",
    "y_values = weather_data['temp']\n",
    "plt.scatter(x_values,y_values)\n",
    "plt.xlabel('Latitude')\n",
    "plt.ylabel('Temperature')\n",
    "plt.show()"
   ]
  },
  {
   "cell_type": "markdown",
   "metadata": {},
   "source": [
    "### Perform API Calls\n",
    "* Perform a weather check on each city using a series of successive API calls.\n",
    "* Include a print log of each city as it'sbeing processed (with the city number and city name).\n"
   ]
  },
  {
   "cell_type": "code",
   "execution_count": null,
   "metadata": {},
   "outputs": [],
   "source": [
    "# Create scatter plots for each:\n",
    "# * Temperature (F) vs. Latitude\n",
    "# * Humidity (%) vs. Latitude\n",
    "# * Cloudiness (%) vs. Latitude\n",
    "# * Wind Speed (mph) vs. Latitude\n",
    "\n",
    "# Latitude LT\n",
    "\n",
    "# Temperature T (F)\n",
    "\n",
    "# Humidity H (%)\n",
    "\n",
    "# Cloudiness Cl (%) \n",
    "\n",
    "# Wind Speed WS(mph)"
   ]
  },
  {
   "cell_type": "markdown",
   "metadata": {},
   "source": [
    "### Convert Raw Data to DataFrame\n",
    "* Export the city data into a .csv.\n",
    "* Display the DataFrame"
   ]
  },
  {
   "cell_type": "code",
   "execution_count": null,
   "metadata": {},
   "outputs": [],
   "source": []
  },
  {
   "cell_type": "code",
   "execution_count": null,
   "metadata": {},
   "outputs": [],
   "source": []
  },
  {
   "cell_type": "markdown",
   "metadata": {},
   "source": [
    "### Plotting the Data\n",
    "* Use proper labeling of the plots using plot titles (including date of analysis) and axes labels.\n",
    "* Save the plotted figures as .pngs."
   ]
  },
  {
   "cell_type": "markdown",
   "metadata": {},
   "source": [
    "#### Latitude vs. Temperature Plot"
   ]
  },
  {
   "cell_type": "code",
   "execution_count": null,
   "metadata": {
    "scrolled": true
   },
   "outputs": [],
   "source": []
  },
  {
   "cell_type": "markdown",
   "metadata": {},
   "source": [
    "#### Latitude vs. Humidity Plot"
   ]
  },
  {
   "cell_type": "code",
   "execution_count": null,
   "metadata": {},
   "outputs": [],
   "source": []
  },
  {
   "cell_type": "markdown",
   "metadata": {},
   "source": [
    "#### Latitude vs. Cloudiness Plot"
   ]
  },
  {
   "cell_type": "code",
   "execution_count": null,
   "metadata": {},
   "outputs": [],
   "source": []
  },
  {
   "cell_type": "markdown",
   "metadata": {},
   "source": [
    "#### Latitude vs. Wind Speed Plot"
   ]
  },
  {
   "cell_type": "code",
   "execution_count": null,
   "metadata": {},
   "outputs": [],
   "source": []
  },
  {
   "cell_type": "markdown",
   "metadata": {},
   "source": [
    "## Linear Regression"
   ]
  },
  {
   "cell_type": "code",
   "execution_count": null,
   "metadata": {},
   "outputs": [],
   "source": [
    "# OPTIONAL: Create a function to create Linear Regression plots\n"
   ]
  },
  {
   "cell_type": "code",
   "execution_count": null,
   "metadata": {},
   "outputs": [],
   "source": [
    "# Create Northern and Southern Hemisphere DataFrames\n"
   ]
  },
  {
   "cell_type": "markdown",
   "metadata": {},
   "source": [
    "####  Northern Hemisphere - Max Temp vs. Latitude Linear Regression"
   ]
  },
  {
   "cell_type": "code",
   "execution_count": null,
   "metadata": {},
   "outputs": [],
   "source": []
  },
  {
   "cell_type": "markdown",
   "metadata": {},
   "source": [
    "####  Southern Hemisphere - Max Temp vs. Latitude Linear Regression"
   ]
  },
  {
   "cell_type": "code",
   "execution_count": null,
   "metadata": {},
   "outputs": [],
   "source": []
  },
  {
   "cell_type": "markdown",
   "metadata": {},
   "source": [
    "####  Northern Hemisphere - Humidity (%) vs. Latitude Linear Regression"
   ]
  },
  {
   "cell_type": "code",
   "execution_count": null,
   "metadata": {},
   "outputs": [],
   "source": []
  },
  {
   "cell_type": "markdown",
   "metadata": {},
   "source": [
    "####  Southern Hemisphere - Humidity (%) vs. Latitude Linear Regression"
   ]
  },
  {
   "cell_type": "code",
   "execution_count": null,
   "metadata": {},
   "outputs": [],
   "source": []
  },
  {
   "cell_type": "markdown",
   "metadata": {},
   "source": [
    "####  Northern Hemisphere - Cloudiness (%) vs. Latitude Linear Regression"
   ]
  },
  {
   "cell_type": "code",
   "execution_count": null,
   "metadata": {},
   "outputs": [],
   "source": []
  },
  {
   "cell_type": "markdown",
   "metadata": {},
   "source": [
    "####  Southern Hemisphere - Cloudiness (%) vs. Latitude Linear Regression"
   ]
  },
  {
   "cell_type": "code",
   "execution_count": null,
   "metadata": {},
   "outputs": [],
   "source": []
  },
  {
   "cell_type": "markdown",
   "metadata": {},
   "source": [
    "####  Northern Hemisphere - Wind Speed (mph) vs. Latitude Linear Regression"
   ]
  },
  {
   "cell_type": "code",
   "execution_count": null,
   "metadata": {},
   "outputs": [],
   "source": []
  },
  {
   "cell_type": "markdown",
   "metadata": {},
   "source": [
    "####  Southern Hemisphere - Wind Speed (mph) vs. Latitude Linear Regression"
   ]
  },
  {
   "cell_type": "code",
   "execution_count": null,
   "metadata": {},
   "outputs": [],
   "source": []
  },
  {
   "cell_type": "code",
   "execution_count": null,
   "metadata": {},
   "outputs": [],
   "source": []
  }
 ],
 "metadata": {
  "anaconda-cloud": {},
  "kernel_info": {
   "name": "python3"
  },
  "kernelspec": {
   "display_name": "Python 3",
   "language": "python",
   "name": "python3"
  },
  "language_info": {
   "codemirror_mode": {
    "name": "ipython",
    "version": 3
   },
   "file_extension": ".py",
   "mimetype": "text/x-python",
   "name": "python",
   "nbconvert_exporter": "python",
   "pygments_lexer": "ipython3",
   "version": "3.6.10"
  },
  "latex_envs": {
   "LaTeX_envs_menu_present": true,
   "autoclose": false,
   "autocomplete": true,
   "bibliofile": "biblio.bib",
   "cite_by": "apalike",
   "current_citInitial": 1,
   "eqLabelWithNumbers": true,
   "eqNumInitial": 1,
   "hotkeys": {
    "equation": "Ctrl-E",
    "itemize": "Ctrl-I"
   },
   "labels_anchors": false,
   "latex_user_defs": false,
   "report_style_numbering": false,
   "user_envs_cfg": false
  },
  "nteract": {
   "version": "0.12.3"
  }
 },
 "nbformat": 4,
 "nbformat_minor": 2
}
