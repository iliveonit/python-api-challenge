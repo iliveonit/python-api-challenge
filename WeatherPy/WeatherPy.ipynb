{
 "cells": [
  {
   "cell_type": "markdown",
   "metadata": {},
   "source": [
    "# WeatherPy\n",
    "----\n",
    "\n",
    "#### Note\n",
    "* Instructions have been included for each segment. You do not have to follow them exactly, but they are included to help you think through the steps."
   ]
  },
  {
   "cell_type": "code",
   "execution_count": 1,
   "metadata": {
    "scrolled": true
   },
   "outputs": [],
   "source": [
    "# Dependencies and Setup\n",
    "import matplotlib.pyplot as plt\n",
    "import pandas as pd\n",
    "import numpy as np\n",
    "import requests\n",
    "import time\n",
    "from scipy.stats import linregress\n",
    "\n",
    "# Import API key\n",
    "from api_keys import weather_api_key\n",
    "# Import API key\n",
    "from api_keys import g_key\n",
    "\n",
    "# Incorporated citipy to determine city based on latitude and longitude\n",
    "from citipy import citipy\n",
    "\n",
    "# Output File (CSV)\n",
    "output_data_file = \"output_data/cities.csv\"\n",
    "\n",
    "# Range of latitudes and longitudes\n",
    "lat_range = (-90, 90)\n",
    "lng_range = (-180, 180)"
   ]
  },
  {
   "cell_type": "markdown",
   "metadata": {},
   "source": [
    "## Generate Cities List"
   ]
  },
  {
   "cell_type": "code",
   "execution_count": 2,
   "metadata": {},
   "outputs": [
    {
     "data": {
      "text/plain": [
       "611"
      ]
     },
     "execution_count": 2,
     "metadata": {},
     "output_type": "execute_result"
    }
   ],
   "source": [
    "# List for holding lat_lngs and cities\n",
    "lat_lngs = []\n",
    "\n",
    "lat = []\n",
    "lon = []\n",
    "\n",
    "cities = []\n",
    "\n",
    "temp = []\n",
    "clouds = []\n",
    "wind = []\n",
    "\n",
    "# Create a set of random lat and lng combinations\n",
    "lats = np.random.uniform(low=-90.000, high=90.000, size=1500)\n",
    "lngs = np.random.uniform(low=-180.000, high=180.000, size=1500)\n",
    "lat_lngs = zip(lats, lngs)\n",
    "\n",
    "# Identify nearest city for each lat, lng combination\n",
    "for lat_lng in lat_lngs:\n",
    "    city = citipy.nearest_city(lat_lng[0], lat_lng[1]).city_name\n",
    "    \n",
    "    # If the city is unique, then add it to a our cities list\n",
    "    if city not in cities:\n",
    "        cities.append(city)\n",
    "\n",
    "# Print the city count to confirm sufficient count\n",
    "len(cities)"
   ]
  },
  {
   "cell_type": "code",
   "execution_count": 3,
   "metadata": {},
   "outputs": [
    {
     "name": "stdout",
     "output_type": "stream",
     "text": [
      "['mbandaka', 'tuktoyaktuk', 'lorengau', 'hobart', 'deep river', 'bowling green', 'punta arenas', 'vaini', 'bandarbeyla', 'new norfolk', 'ushuaia', 'grand gaube', 'mar del plata', 'port lincoln', 'tiksi', 'cape town', 'albany', 'cabedelo', 'georgetown', 'luderitz', 'san cristobal', 'cockburn town', 'saint-philippe', 'sioux lookout', 'krasnozerskoye', 'hithadhoo', 'kamenskoye', 'homer', 'yellowknife', 'rikitea', 'mataura', 'kapaa', 'dicabisagan', 'nemuro', 'dingle', 'samusu', 'katsuura', 'lavrentiya', 'bethel', 'ancud', 'bredasdorp', 'port alfred', 'lebu', 'okha', 'butaritari', 'saryshagan', 'nicoya', 'attawapiskat', 'nagato', 'kashi', 'hilo', 'salalah', 'debre tabor', 'santa eulalia del rio', 'alexandria', 'qaanaaq', 'chokurdakh', 'koumac', 'lagoa', 'san jose', 'jaciara', 'tasiilaq', 'college', 'omboue', 'kieta', 'hamilton', 'upernavik', 'hermanus', 'puerto ayora', 'rocha', 'weiden', 'altamira', 'weligama', 'busselton', 'sola', 'beloha', 'quelimane', 'mayo', 'adrar', 'kodiak', 'batagay', 'kuytun', 'hobyo', 'korla', 'kabo', 'taolanaro', 'east london', 'tupik', 'sakakah', 'emerald', 'saint-augustin', 'nizhneyansk', 'saskylakh', 'guerrero negro', 'howard springs', 'emba', 'bluff', 'provideniya', 'choix', 'denpasar', 'keti bandar', 'pisco', 'karratha', 'chapais', 'atuona', 'esperance', 'sarangani', 'sept-iles', 'bouar', 'fortuna', 'elverum', 'sao joao da ponte', 'saint-joseph', 'mys shmidta', 'roald', 'ozu', 'tsihombe', 'te anau', 'konyshevka', 'saint george', 'arraial do cabo', 'ilhabela', 'gigmoto', 'los llanos de aridane', 'jamestown', 'yarmouth', 'drakhtik', 'ribeira grande', 'leningradskiy', 'yar-sale', 'victoria', 'belmonte', 'marawi', 'meyungs', 'dunedin', 'zhangye', 'san carlos', 'toba', 'bambous virieux', 'carnarvon', 'shintomi', 'khandyga', 'yetholm', 'tonj', 'fort nelson', 'rongcheng', 'lazurne', 'bismarck', 'norman wells', 'olafsvik', 'erzin', 'kortkeros', 'livingston', 'beidao', 'palabuhanratu', 'aloleng', 'nizhnevartovsk', 'snyder', 'tumannyy', 'barentsburg', 'khatanga', 'moron', 'sentyabrskiy', 'mahebourg', 'mandalgovi', 'katobu', 'thessalon', 'taoudenni', 'launceston', 'san patricio', 'sorland', 'nishihara', 'faanui', 'vilhena', 'yemtsa', 'rincon', 'kaitangata', 'namibe', 'nuuk', 'kungurtug', 'magistralnyy', 'port keats', 'husavik', 'fort smith', 'cabo san lucas', 'severo-kurilsk', 'wulanhaote', 'iqaluit', 'mbeya', 'nantucket', 'strezhevoy', 'clyde river', 'illoqqortoormiut', 'port blair', 'klaksvik', 'abu kamal', 'belushya guba', 'griffith', 'jalu', 'chuy', 'barrow', 'dyersburg', 'okhotsk', 'svetlogorsk', 'kachiry', 'kapuskasing', 'tahta', 'warmbad', 'yarkovo', 'umzimvubu', 'nikolskoye', 'sarankhola', 'taltal', 'avarua', 'west plains', 'timmins', 'elko', 'ahipara', 'bontang', 'mount isa', 'itainopolis', 'souillac', 'ponta do sol', 'tarime', 'sayyan', 'dehloran', 'vostok', 'igarka', 'isangel', 'bhuj', 'ziyang', 'kangaatsiaq', 'teknaf', 'riverton', 'naze', 'oyugis', 'leh', 'takoradi', 'palana', 'tarko-sale', 'mnogovershinnyy', 'lata', 'cao bang', 'grand river south east', 'camana', 'marcona', 'sitka', 'mantua', 'talnakh', 'karnobat', 'rawson', 'los algarrobos', 'tshikapa', 'orsha', 'pemberton', 'belyy yar', 'x-can', 'huarmey', 'mount gambier', 'poya', 'castro', 'havre-saint-pierre', 'hihifo', 'caravelas', 'paderborn', 'thinadhoo', 'vaitupu', 'kholodnyy', 'paclolo', 'straumen', 'bengkulu', 'aswan', 'natal', 'shache', 'tiznit', 'thompson', 'kahului', 'sao filipe', 'marystown', 'pangnirtung', 'lebyazhye', 'kenai', 'dolores', 'kuche', 'ambilobe', 'chifeng', 'tateyama', 'geraldton', 'port elizabeth', 'kavieng', 'idah', 'zlobin', 'tawzar', 'padang', 'santa cruz', 'upington', 'jardim', 'uyuni', 'tilichiki', 'melville', 'harbour breton', 'madras', 'port-gentil', 'ballina', 'broken hill', 'arica', 'nioro', 'vardo', 'kloulklubed', 'pokhara', 'newnan', 'mincivan', 'kichera', 'mogadishu', 'qaqortoq', 'san rafael', 'loa janan', 'jasa tomic', 'tiruchchendur', 'iskateley', 'general pico', 'pocone', 'hasaki', 'kruisfontein', 'warqla', 'hambantota', 'sungaipenuh', 'lompoc', 'baykit', 'awbari', 'den helder', 'opuwo', 'mweka', 'oktyabrskoye', 'miguel hidalgo', 'sault sainte marie', 'alice springs', 'mjolby', 'eldikan', 'aklavik', 'muros', 'reconquista', 'bilgoraj', 'baker city', 'perth', 'meulaboh', 'mareeba', 'san quintin', 'pechora', 'grand junction', 'krasnoborsk', 'anchorage', 'alta floresta', 'rostovka', 'blind river', 'puri', 'hofn', 'portland', 'marrakesh', 'fomboni', 'tuatapere', 'santa rosa del sur', 'the valley', 'san miguel', 'chacabuco', 'myitkyina', 'kalat', 'orange cove', 'alofi', 'flinders', 'constitucion', 'bondo', 'namatanai', 'aykhal', 'lolua', 'pevek', 'grong', 'aviles', 'khuzdar', 'praia', 'arlit', 'kandava', 'yulara', 'half moon bay', 'kendari', 'jiwani', 'stornoway', 'buchanan', 'torbay', 'peniche', 'nanzhou', 'jambi', 'burnie', 'yining', 'ughelli', 'mogok', 'torbat-e jam', 'qobustan', 'guadix', 'port hardy', 'lishan', 'ust-kamchatsk', 'morshansk', 'benesat', 'amderma', 'springdale', 'yirol', 'bagdarin', 'nizhyn', 'ossora', 'tashtyp', 'arcachon', 'cherskiy', 'manicore', 'tariba', 'lillooet', 'teguldet', 'iquitos', 'tari', 'lingao', 'santa maria', 'jasper', 'coromandel', 'galich', 'bilibino', 'cabo rojo', 'yunyang', 'yingcheng', 'puerto carreno', 'marsh harbour', 'saldanha', 'kizilskoye', 'adzhamka', 'vila franca do campo', 'vanino', 'kristiinankaupunki', 'kongoussi', 'crepy-en-valois', 'kerema', 'nowy dwor gdanski', 'bathsheba', 'road town', 'fairbanks', 'seddon', 'saint-louis', 'la ronge', 'tolaga bay', 'ilulissat', 'morrope', 'karagay', 'grande-riviere', 'san luis', 'garissa', 'colares', 'moanda', 'kracheh', 'suez', 'palora', 'grindavik', 'pochutla', 'brejning', 'auki', 'aksu', 'umm durman', 'pedernales', 'longyearbyen', 'show low', 'olinda', 'aleksandrov gay', 'dikson', 'ambodifototra', 'kidal', 'mackenzie', 'togur', 'nueva loja', 'kitimat', 'vila', 'am timan', 'polunochnoye', 'moose factory', 'linxia', 'north branch', 'miram shah', 'raudeberg', 'kutum', 'muisne', 'roebourne', 'lima', 'negara', 'novoagansk', 'hovd', 'sambava', 'aracati', 'orzu', 'umm lajj', 'guanica', 'praia da vitoria', 'iquique', 'saint-francois', 'adjumani', 'hami', 'kuldur', 'westport', 'cap malheureux', 'artyk', 'zamora', 'phan rang', 'coos bay', 'pampierstad', 'sakaiminato', 'airai', 'gimli', 'hualmay', 'axim', 'petauke', 'vanderhoof', 'chagda', 'marsa matruh', 'ruidoso', 'rock sound', 'paamiut', 'ingham', 'teonthar', 'camocim', 'mariental', 'amparafaravola', 'galle', 'denizli', 'russell', 'lethem', 'gayeri', 'kourou', 'fukue', 'madimba', 'saleaula', 'jhang', 'texarkana', 'sandnessjoen', 'vestmannaeyjar', 'barcelos', 'kuala krai', 'barsovo', 'wagrowiec', 'rusape', 'impfondo', 'leon valley', 'cockburn harbour', 'mossendjo', 'pundaguitan', 'schleswig', 'andevoranto', 'ketchikan', 'richards bay', 'bastrop', 'dayong', 'bara', 'halalo', 'flin flon', 'kavaratti', 'pavlivka', 'beyneu', 'evensk', 'itarsi', 'la asuncion', 'ibb', 'inhambane', 'kununurra', 'medea', 'green river', 'el alto', 'templin', 'sobolevo', 'diamantino', 'ban nahin', 'kuala sungai baru', 'fuyu', 'santa fe', 'ibanda', 'dudinka', 'kennewick', 'gawler', 'nanortalik', 'aras', 'laguna', 'haines junction', 'ngama', 'mouila', 'alekseyevskaya', 'jiblah', 'grinnell', 'tunggol', 'osakarovka', 'enshi', 'cidreira', 'pangody', 'pokrovsk-uralskiy', 'andrews', 'matay', 'mollendo', 'parabel', 'galesong', 'suleja', 'nadym', 'shingu', 'tshela', 'aksarka', 'fayaoue', 'celestun', 'voh', 'imamoglu', 'riyadh']\n"
     ]
    }
   ],
   "source": [
    "print(cities)"
   ]
  },
  {
   "cell_type": "code",
   "execution_count": 4,
   "metadata": {},
   "outputs": [
    {
     "name": "stdout",
     "output_type": "stream",
     "text": [
      "http://api.openweathermap.org/data/2.5/weather?appid=6a9ded0210a28a26ae802e071f505b96&q=airai\n"
     ]
    }
   ],
   "source": [
    "# Save config information\n",
    "url = \"http://api.openweathermap.org/data/2.5/weather?\"\n",
    "\n",
    "# Build query URL\n",
    "query_url = url + \"appid=\" + weather_api_key + \"&q=\" + city\n",
    "print(query_url)"
   ]
  },
  {
   "cell_type": "code",
   "execution_count": 5,
   "metadata": {},
   "outputs": [
    {
     "name": "stdout",
     "output_type": "stream",
     "text": [
      "{'coord': {'lon': 125.41, 'lat': -8.93}, 'weather': [{'id': 500, 'main': 'Rain', 'description': 'light rain', 'icon': '10d'}], 'base': 'stations', 'main': {'temp': 292.4, 'feels_like': 293.18, 'temp_min': 292.4, 'temp_max': 292.4, 'pressure': 1011, 'humidity': 69, 'sea_level': 1011, 'grnd_level': 857}, 'wind': {'speed': 0.42, 'deg': 352}, 'rain': {'3h': 2.28}, 'clouds': {'all': 97}, 'dt': 1586662953, 'sys': {'country': 'TL', 'sunrise': 1586641262, 'sunset': 1586684207}, 'timezone': 32400, 'id': 1651810, 'name': 'Airai', 'cod': 200}\n"
     ]
    }
   ],
   "source": [
    "# Get weather data\n",
    "weather_response = requests.get(query_url)\n",
    "weather_json = weather_response.json()\n",
    "print(weather_json)"
   ]
  },
  {
   "cell_type": "code",
   "execution_count": 6,
   "metadata": {},
   "outputs": [
    {
     "name": "stdout",
     "output_type": "stream",
     "text": [
      "{'cod': '404', 'message': 'city not found'}\n"
     ]
    }
   ],
   "source": [
    "response = requests.get(query_url + city).json()\n",
    "print(response)"
   ]
  },
  {
   "cell_type": "code",
   "execution_count": 7,
   "metadata": {},
   "outputs": [
    {
     "name": "stdout",
     "output_type": "stream",
     "text": [
      "The weather API responded with: {'coord': {'lon': 125.41, 'lat': -8.93}, 'weather': [{'id': 500, 'main': 'Rain', 'description': 'light rain', 'icon': '10d'}], 'base': 'stations', 'main': {'temp': 292.4, 'feels_like': 293.18, 'temp_min': 292.4, 'temp_max': 292.4, 'pressure': 1011, 'humidity': 69, 'sea_level': 1011, 'grnd_level': 857}, 'wind': {'speed': 0.42, 'deg': 352}, 'rain': {'3h': 2.28}, 'clouds': {'all': 97}, 'dt': 1586662953, 'sys': {'country': 'TL', 'sunrise': 1586641262, 'sunset': 1586684207}, 'timezone': 32400, 'id': 1651810, 'name': 'Airai', 'cod': 200}.\n"
     ]
    }
   ],
   "source": [
    "# Get the temperature from the response\n",
    "print(f\"The weather API responded with: {weather_json}.\")"
   ]
  },
  {
   "cell_type": "code",
   "execution_count": 8,
   "metadata": {},
   "outputs": [
    {
     "data": {
      "text/html": [
       "<div>\n",
       "<style scoped>\n",
       "    .dataframe tbody tr th:only-of-type {\n",
       "        vertical-align: middle;\n",
       "    }\n",
       "\n",
       "    .dataframe tbody tr th {\n",
       "        vertical-align: top;\n",
       "    }\n",
       "\n",
       "    .dataframe thead th {\n",
       "        text-align: right;\n",
       "    }\n",
       "</style>\n",
       "<table border=\"1\" class=\"dataframe\">\n",
       "  <thead>\n",
       "    <tr style=\"text-align: right;\">\n",
       "      <th></th>\n",
       "      <th>City_ID</th>\n",
       "      <th>City</th>\n",
       "      <th>Cloudiness</th>\n",
       "      <th>Country</th>\n",
       "      <th>Date</th>\n",
       "      <th>Humidity</th>\n",
       "      <th>Lat</th>\n",
       "      <th>Lng</th>\n",
       "      <th>Max Temp</th>\n",
       "      <th>Wind Speed</th>\n",
       "    </tr>\n",
       "  </thead>\n",
       "  <tbody>\n",
       "    <tr>\n",
       "      <th>0</th>\n",
       "      <td>0</td>\n",
       "      <td>ostrovnoy</td>\n",
       "      <td>2</td>\n",
       "      <td>RU</td>\n",
       "      <td>1558378754</td>\n",
       "      <td>72</td>\n",
       "      <td>68.05</td>\n",
       "      <td>39.51</td>\n",
       "      <td>37.50</td>\n",
       "      <td>7.16</td>\n",
       "    </tr>\n",
       "    <tr>\n",
       "      <th>1</th>\n",
       "      <td>1</td>\n",
       "      <td>mahebourg</td>\n",
       "      <td>75</td>\n",
       "      <td>MU</td>\n",
       "      <td>1558378503</td>\n",
       "      <td>74</td>\n",
       "      <td>-20.41</td>\n",
       "      <td>57.70</td>\n",
       "      <td>78.80</td>\n",
       "      <td>11.41</td>\n",
       "    </tr>\n",
       "    <tr>\n",
       "      <th>2</th>\n",
       "      <td>2</td>\n",
       "      <td>qaanaaq</td>\n",
       "      <td>25</td>\n",
       "      <td>GL</td>\n",
       "      <td>1558378755</td>\n",
       "      <td>73</td>\n",
       "      <td>77.48</td>\n",
       "      <td>-69.36</td>\n",
       "      <td>22.20</td>\n",
       "      <td>2.37</td>\n",
       "    </tr>\n",
       "    <tr>\n",
       "      <th>3</th>\n",
       "      <td>3</td>\n",
       "      <td>zhuhai</td>\n",
       "      <td>0</td>\n",
       "      <td>CN</td>\n",
       "      <td>1558378755</td>\n",
       "      <td>39</td>\n",
       "      <td>40.71</td>\n",
       "      <td>112.04</td>\n",
       "      <td>44.60</td>\n",
       "      <td>4.47</td>\n",
       "    </tr>\n",
       "    <tr>\n",
       "      <th>4</th>\n",
       "      <td>4</td>\n",
       "      <td>cape town</td>\n",
       "      <td>20</td>\n",
       "      <td>ZA</td>\n",
       "      <td>1558378755</td>\n",
       "      <td>76</td>\n",
       "      <td>-33.93</td>\n",
       "      <td>18.42</td>\n",
       "      <td>55.99</td>\n",
       "      <td>8.05</td>\n",
       "    </tr>\n",
       "  </tbody>\n",
       "</table>\n",
       "</div>"
      ],
      "text/plain": [
       "   City_ID       City  Cloudiness Country        Date  Humidity    Lat  \\\n",
       "0        0  ostrovnoy           2      RU  1558378754        72  68.05   \n",
       "1        1  mahebourg          75      MU  1558378503        74 -20.41   \n",
       "2        2    qaanaaq          25      GL  1558378755        73  77.48   \n",
       "3        3     zhuhai           0      CN  1558378755        39  40.71   \n",
       "4        4  cape town          20      ZA  1558378755        76 -33.93   \n",
       "\n",
       "      Lng  Max Temp  Wind Speed  \n",
       "0   39.51     37.50        7.16  \n",
       "1   57.70     78.80       11.41  \n",
       "2  -69.36     22.20        2.37  \n",
       "3  112.04     44.60        4.47  \n",
       "4   18.42     55.99        8.05  "
      ]
     },
     "execution_count": 8,
     "metadata": {},
     "output_type": "execute_result"
    }
   ],
   "source": [
    "# Create cities dataframe\n",
    "cities_df = pd.read_csv('../output_data/cities.csv')\n",
    "cities_df.dropna(inplace = True) \n",
    "cities_df.head()"
   ]
  },
  {
   "cell_type": "code",
   "execution_count": 9,
   "metadata": {},
   "outputs": [
    {
     "data": {
      "text/html": [
       "<div>\n",
       "<style scoped>\n",
       "    .dataframe tbody tr th:only-of-type {\n",
       "        vertical-align: middle;\n",
       "    }\n",
       "\n",
       "    .dataframe tbody tr th {\n",
       "        vertical-align: top;\n",
       "    }\n",
       "\n",
       "    .dataframe thead th {\n",
       "        text-align: right;\n",
       "    }\n",
       "</style>\n",
       "<table border=\"1\" class=\"dataframe\">\n",
       "  <thead>\n",
       "    <tr style=\"text-align: right;\">\n",
       "      <th></th>\n",
       "      <th>City</th>\n",
       "      <th>Lat</th>\n",
       "      <th>Lng</th>\n",
       "      <th>Max Temp</th>\n",
       "      <th>Humidity</th>\n",
       "      <th>Cloudiness</th>\n",
       "      <th>Wind Speed</th>\n",
       "    </tr>\n",
       "  </thead>\n",
       "  <tbody>\n",
       "    <tr>\n",
       "      <th>0</th>\n",
       "      <td>ostrovnoy</td>\n",
       "      <td>68.05</td>\n",
       "      <td>39.51</td>\n",
       "      <td>37.50</td>\n",
       "      <td>72</td>\n",
       "      <td>2</td>\n",
       "      <td>7.16</td>\n",
       "    </tr>\n",
       "    <tr>\n",
       "      <th>1</th>\n",
       "      <td>mahebourg</td>\n",
       "      <td>-20.41</td>\n",
       "      <td>57.70</td>\n",
       "      <td>78.80</td>\n",
       "      <td>74</td>\n",
       "      <td>75</td>\n",
       "      <td>11.41</td>\n",
       "    </tr>\n",
       "    <tr>\n",
       "      <th>2</th>\n",
       "      <td>qaanaaq</td>\n",
       "      <td>77.48</td>\n",
       "      <td>-69.36</td>\n",
       "      <td>22.20</td>\n",
       "      <td>73</td>\n",
       "      <td>25</td>\n",
       "      <td>2.37</td>\n",
       "    </tr>\n",
       "    <tr>\n",
       "      <th>3</th>\n",
       "      <td>zhuhai</td>\n",
       "      <td>40.71</td>\n",
       "      <td>112.04</td>\n",
       "      <td>44.60</td>\n",
       "      <td>39</td>\n",
       "      <td>0</td>\n",
       "      <td>4.47</td>\n",
       "    </tr>\n",
       "    <tr>\n",
       "      <th>4</th>\n",
       "      <td>cape town</td>\n",
       "      <td>-33.93</td>\n",
       "      <td>18.42</td>\n",
       "      <td>55.99</td>\n",
       "      <td>76</td>\n",
       "      <td>20</td>\n",
       "      <td>8.05</td>\n",
       "    </tr>\n",
       "    <tr>\n",
       "      <th>...</th>\n",
       "      <td>...</td>\n",
       "      <td>...</td>\n",
       "      <td>...</td>\n",
       "      <td>...</td>\n",
       "      <td>...</td>\n",
       "      <td>...</td>\n",
       "      <td>...</td>\n",
       "    </tr>\n",
       "    <tr>\n",
       "      <th>543</th>\n",
       "      <td>yabrud</td>\n",
       "      <td>33.97</td>\n",
       "      <td>36.66</td>\n",
       "      <td>80.60</td>\n",
       "      <td>32</td>\n",
       "      <td>0</td>\n",
       "      <td>8.05</td>\n",
       "    </tr>\n",
       "    <tr>\n",
       "      <th>544</th>\n",
       "      <td>paraiso</td>\n",
       "      <td>24.01</td>\n",
       "      <td>-104.61</td>\n",
       "      <td>84.20</td>\n",
       "      <td>4</td>\n",
       "      <td>5</td>\n",
       "      <td>16.11</td>\n",
       "    </tr>\n",
       "    <tr>\n",
       "      <th>545</th>\n",
       "      <td>veraval</td>\n",
       "      <td>49.65</td>\n",
       "      <td>0.71</td>\n",
       "      <td>61.00</td>\n",
       "      <td>62</td>\n",
       "      <td>0</td>\n",
       "      <td>8.05</td>\n",
       "    </tr>\n",
       "    <tr>\n",
       "      <th>546</th>\n",
       "      <td>novyy urgal</td>\n",
       "      <td>51.07</td>\n",
       "      <td>132.56</td>\n",
       "      <td>49.74</td>\n",
       "      <td>93</td>\n",
       "      <td>100</td>\n",
       "      <td>2.68</td>\n",
       "    </tr>\n",
       "    <tr>\n",
       "      <th>547</th>\n",
       "      <td>tongren</td>\n",
       "      <td>27.72</td>\n",
       "      <td>109.18</td>\n",
       "      <td>55.86</td>\n",
       "      <td>64</td>\n",
       "      <td>4</td>\n",
       "      <td>2.84</td>\n",
       "    </tr>\n",
       "  </tbody>\n",
       "</table>\n",
       "<p>544 rows × 7 columns</p>\n",
       "</div>"
      ],
      "text/plain": [
       "            City    Lat     Lng  Max Temp  Humidity  Cloudiness  Wind Speed\n",
       "0      ostrovnoy  68.05   39.51     37.50        72           2        7.16\n",
       "1      mahebourg -20.41   57.70     78.80        74          75       11.41\n",
       "2        qaanaaq  77.48  -69.36     22.20        73          25        2.37\n",
       "3         zhuhai  40.71  112.04     44.60        39           0        4.47\n",
       "4      cape town -33.93   18.42     55.99        76          20        8.05\n",
       "..           ...    ...     ...       ...       ...         ...         ...\n",
       "543       yabrud  33.97   36.66     80.60        32           0        8.05\n",
       "544      paraiso  24.01 -104.61     84.20         4           5       16.11\n",
       "545      veraval  49.65    0.71     61.00        62           0        8.05\n",
       "546  novyy urgal  51.07  132.56     49.74        93         100        2.68\n",
       "547      tongren  27.72  109.18     55.86        64           4        2.84\n",
       "\n",
       "[544 rows x 7 columns]"
      ]
     },
     "execution_count": 9,
     "metadata": {},
     "output_type": "execute_result"
    }
   ],
   "source": [
    "weather_df=cities_df.loc[:, ['City', 'Lat', 'Lng','Max Temp','Humidity','Cloudiness','Wind Speed']]\n",
    "weather_df"
   ]
  },
  {
   "cell_type": "markdown",
   "metadata": {},
   "source": [
    "### Perform API Calls\n",
    "* Perform a weather check on each city using a series of successive API calls.\n",
    "* Include a print log of each city as it'sbeing processed (with the city number and city name).\n"
   ]
  },
  {
   "cell_type": "code",
   "execution_count": 10,
   "metadata": {},
   "outputs": [],
   "source": [
    "# Create scatter plots for each:\n",
    "# * Temperature (F) vs. Latitude\n",
    "# * Humidity (%) vs. Latitude\n",
    "# * Cloudiness (%) vs. Latitude\n",
    "# * Wind Speed (mph) vs. Latitude\n",
    "\n",
    "# Latitude LT\n",
    "\n",
    "# Temperature T (F)\n",
    "\n",
    "# Humidity H (%)\n",
    "\n",
    "# Cloudiness Cl (%) \n",
    "\n",
    "# Wind Speed WS(mph)"
   ]
  },
  {
   "cell_type": "code",
   "execution_count": 15,
   "metadata": {},
   "outputs": [
    {
     "data": {
      "image/png": "[encoded data removed]",
      "text/plain": [
       "<Figure size 432x288 with 1 Axes>"
      ]
     },
     "metadata": {
      "needs_background": "light"
     },
     "output_type": "display_data"
    }
   ],
   "source": [
    "# Create a Scatter Plot: Temperature (F) vs. Latitude\n",
    "x_values = weather_df['Lat']\n",
    "y_values = weather_df['Max Temp']\n",
    "plt.scatter(x_values,y_values)\n",
    "plt.xlabel('Latitude')\n",
    "plt.ylabel('Temperature (F)')\n",
    "plt.show()"
   ]
  },
  {
   "cell_type": "code",
   "execution_count": 18,
   "metadata": {},
   "outputs": [
    {
     "data": {
      "image/png": "[encoded data removed]",
      "text/plain": [
       "<Figure size 432x288 with 1 Axes>"
      ]
     },
     "metadata": {
      "needs_background": "light"
     },
     "output_type": "display_data"
    }
   ],
   "source": [
    "# Create a Scatter Plot: Humidity (%) vs. Latitude\n",
    "\n",
    "x_values = weather_df['Lat']\n",
    "y_values = weather_df['Humidity']\n",
    "plt.scatter(x_values,y_values)\n",
    "plt.xlabel('Latitude')\n",
    "plt.ylabel('Humidity (%)')\n",
    "plt.show()"
   ]
  },
  {
   "cell_type": "code",
   "execution_count": 17,
   "metadata": {},
   "outputs": [
    {
     "data": {
      "image/png": "[encoded data removed]",
      "text/plain": [
       "<Figure size 432x288 with 1 Axes>"
      ]
     },
     "metadata": {
      "needs_background": "light"
     },
     "output_type": "display_data"
    }
   ],
   "source": [
    "# Create scatter plot: Cloudiness (%) vs. Latitude\n",
    "\n",
    "x_values = weather_df['Lat']\n",
    "y_values = weather_df['Cloudiness']\n",
    "plt.scatter(x_values,y_values)\n",
    "plt.xlabel('Latitude')\n",
    "plt.ylabel('Cloudiness (%)')\n",
    "plt.show()"
   ]
  },
  {
   "cell_type": "code",
   "execution_count": 14,
   "metadata": {},
   "outputs": [
    {
     "data": {
      "image/png": "[encoded data removed]",
      "text/plain": [
       "<Figure size 432x288 with 1 Axes>"
      ]
     },
     "metadata": {
      "needs_background": "light"
     },
     "output_type": "display_data"
    }
   ],
   "source": [
    "# Create scatter plot: Wind Speed (mph) vs. Latitude\n",
    "\n",
    "x_values = weather_df['Lat']\n",
    "y_values = weather_df['Wind Speed']\n",
    "plt.scatter(x_values,y_values)\n",
    "plt.xlabel('Latitude')\n",
    "plt.ylabel('Wind Speed mph')\n",
    "plt.show()"
   ]
  },
  {
   "cell_type": "markdown",
   "metadata": {},
   "source": [
    "### Convert Raw Data to DataFrame\n",
    "* Export the city data into a .csv.\n",
    "* Display the DataFrame"
   ]
  },
  {
   "cell_type": "code",
   "execution_count": 19,
   "metadata": {},
   "outputs": [],
   "source": [
    "weather_df.to_csv('HW06_Export_CityData.csv') "
   ]
  },
  {
   "cell_type": "markdown",
   "metadata": {},
   "source": [
    "### Plotting the Data\n",
    "* Use proper labeling of the plots using plot titles (including date of analysis) and axes labels.\n",
    "* Save the plotted figures as .pngs."
   ]
  },
  {
   "cell_type": "markdown",
   "metadata": {},
   "source": [
    "#### Latitude vs. Temperature Plot"
   ]
  },
  {
   "cell_type": "code",
   "execution_count": null,
   "metadata": {
    "scrolled": true
   },
   "outputs": [],
   "source": []
  },
  {
   "cell_type": "markdown",
   "metadata": {},
   "source": [
    "#### Latitude vs. Humidity Plot"
   ]
  },
  {
   "cell_type": "code",
   "execution_count": null,
   "metadata": {},
   "outputs": [],
   "source": []
  },
  {
   "cell_type": "markdown",
   "metadata": {},
   "source": [
    "#### Latitude vs. Cloudiness Plot"
   ]
  },
  {
   "cell_type": "code",
   "execution_count": null,
   "metadata": {},
   "outputs": [],
   "source": []
  },
  {
   "cell_type": "markdown",
   "metadata": {},
   "source": [
    "#### Latitude vs. Wind Speed Plot"
   ]
  },
  {
   "cell_type": "code",
   "execution_count": null,
   "metadata": {},
   "outputs": [],
   "source": []
  },
  {
   "cell_type": "markdown",
   "metadata": {},
   "source": [
    "## Linear Regression"
   ]
  },
  {
   "cell_type": "code",
   "execution_count": null,
   "metadata": {},
   "outputs": [],
   "source": [
    "# OPTIONAL: Create a function to create Linear Regression plots\n"
   ]
  },
  {
   "cell_type": "code",
   "execution_count": null,
   "metadata": {},
   "outputs": [],
   "source": [
    "# Create Northern and Southern Hemisphere DataFrames\n"
   ]
  },
  {
   "cell_type": "markdown",
   "metadata": {},
   "source": [
    "####  Northern Hemisphere - Max Temp vs. Latitude Linear Regression"
   ]
  },
  {
   "cell_type": "code",
   "execution_count": null,
   "metadata": {},
   "outputs": [],
   "source": []
  },
  {
   "cell_type": "markdown",
   "metadata": {},
   "source": [
    "####  Southern Hemisphere - Max Temp vs. Latitude Linear Regression"
   ]
  },
  {
   "cell_type": "code",
   "execution_count": null,
   "metadata": {},
   "outputs": [],
   "source": []
  },
  {
   "cell_type": "markdown",
   "metadata": {},
   "source": [
    "####  Northern Hemisphere - Humidity (%) vs. Latitude Linear Regression"
   ]
  },
  {
   "cell_type": "code",
   "execution_count": null,
   "metadata": {},
   "outputs": [],
   "source": []
  },
  {
   "cell_type": "markdown",
   "metadata": {},
   "source": [
    "####  Southern Hemisphere - Humidity (%) vs. Latitude Linear Regression"
   ]
  },
  {
   "cell_type": "code",
   "execution_count": null,
   "metadata": {},
   "outputs": [],
   "source": []
  },
  {
   "cell_type": "markdown",
   "metadata": {},
   "source": [
    "####  Northern Hemisphere - Cloudiness (%) vs. Latitude Linear Regression"
   ]
  },
  {
   "cell_type": "code",
   "execution_count": null,
   "metadata": {},
   "outputs": [],
   "source": []
  },
  {
   "cell_type": "markdown",
   "metadata": {},
   "source": [
    "####  Southern Hemisphere - Cloudiness (%) vs. Latitude Linear Regression"
   ]
  },
  {
   "cell_type": "code",
   "execution_count": null,
   "metadata": {},
   "outputs": [],
   "source": []
  },
  {
   "cell_type": "markdown",
   "metadata": {},
   "source": [
    "####  Northern Hemisphere - Wind Speed (mph) vs. Latitude Linear Regression"
   ]
  },
  {
   "cell_type": "code",
   "execution_count": null,
   "metadata": {},
   "outputs": [],
   "source": []
  },
  {
   "cell_type": "markdown",
   "metadata": {},
   "source": [
    "####  Southern Hemisphere - Wind Speed (mph) vs. Latitude Linear Regression"
   ]
  },
  {
   "cell_type": "code",
   "execution_count": null,
   "metadata": {},
   "outputs": [],
   "source": []
  },
  {
   "cell_type": "code",
   "execution_count": null,
   "metadata": {},
   "outputs": [],
   "source": []
  }
 ],
 "metadata": {
  "anaconda-cloud": {},
  "kernel_info": {
   "name": "python3"
  },
  "kernelspec": {
   "display_name": "Python 3",
   "language": "python",
   "name": "python3"
  },
  "language_info": {
   "codemirror_mode": {
    "name": "ipython",
    "version": 3
   },
   "file_extension": ".py",
   "mimetype": "text/x-python",
   "name": "python",
   "nbconvert_exporter": "python",
   "pygments_lexer": "ipython3",
   "version": "3.6.10"
  },
  "latex_envs": {
   "LaTeX_envs_menu_present": true,
   "autoclose": false,
   "autocomplete": true,
   "bibliofile": "biblio.bib",
   "cite_by": "apalike",
   "current_citInitial": 1,
   "eqLabelWithNumbers": true,
   "eqNumInitial": 1,
   "hotkeys": {
    "equation": "Ctrl-E",
    "itemize": "Ctrl-I"
   },
   "labels_anchors": false,
   "latex_user_defs": false,
   "report_style_numbering": false,
   "user_envs_cfg": false
  },
  "nteract": {
   "version": "0.12.3"
  }
 },
 "nbformat": 4,
 "nbformat_minor": 2
}
